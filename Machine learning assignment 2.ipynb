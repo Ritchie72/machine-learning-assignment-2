{
 "cells": [
  {
   "cell_type": "markdown",
   "id": "67bc2f2d",
   "metadata": {},
   "source": [
    "# Q1: Define overfitting and underfitting in machine learning. What are the consequences of each, and how can they be mitigated?"
   ]
  },
  {
   "cell_type": "markdown",
   "id": "5b491f8c",
   "metadata": {},
   "source": [
    "1] Overfitting:  This results in a model that performs exceptionally well on the training data but poorly on new, unseen data. "
   ]
  },
  {
   "cell_type": "markdown",
   "id": "fc641312",
   "metadata": {},
   "source": [
    "2] Underfitting: It fails to learn the relationships and nuances present in the training data, resulting in poor performance on both the training and test data."
   ]
  },
  {
   "cell_type": "markdown",
   "id": "47f7ada1",
   "metadata": {},
   "source": [
    "Overfitting Consequences: 1] Increased Complexity,2] Poor generalization."
   ]
  },
  {
   "cell_type": "markdown",
   "id": "aa37f398",
   "metadata": {},
   "source": [
    "Mitigation: \n",
    "1] Regulaarization.\n",
    "2] Cross validation.\n",
    "3] Simpler models.\n",
    "4] More data."
   ]
  },
  {
   "cell_type": "markdown",
   "id": "be06b976",
   "metadata": {},
   "source": [
    "Underfitting Consequences: 1] Poor performance 2] Incomplete learning"
   ]
  },
  {
   "cell_type": "markdown",
   "id": "b2b7e709",
   "metadata": {},
   "source": [
    "Mitigation: 1]More data. \n",
    "2] Hypertuning\n",
    "3] Feature extraction."
   ]
  },
  {
   "cell_type": "markdown",
   "id": "2950ab18",
   "metadata": {},
   "source": [
    "# Q2: How can we reduce overfitting? Explain in brief."
   ]
  },
  {
   "cell_type": "markdown",
   "id": "70490818",
   "metadata": {},
   "source": [
    "1] Regularization: By adding a regularize terms in model's lost function.\n",
    "2] Cross validation: Use like k-fold cross validation to evaluate model's performance on multiple subsets of training data,\n",
    "3] Simpler model: Opt for a simpler model with less parameters, simple models are less likely overfit.\n",
    "4] More data: Helps the model to reduce the impact of noise, and make the model focus on learning true patterns.\n"
   ]
  },
  {
   "cell_type": "markdown",
   "id": "002326ea",
   "metadata": {},
   "source": [
    "# Q3: Explain underfitting. List scenarios where underfitting can occur in ML."
   ]
  },
  {
   "cell_type": "markdown",
   "id": "9d18a58e",
   "metadata": {},
   "source": [
    "\n",
    "Underfitting is a concept in machine learning that occurs when a model is too simple to capture the underlying patterns in the data. It essentially means that the model fails to learn the relationships and complexities present in the data, resulting in poor performance on both the training and testing datasets."
   ]
  },
  {
   "cell_type": "markdown",
   "id": "f5844bec",
   "metadata": {},
   "source": [
    "1] Simple model.\n",
    "2] Insufficient training. \n",
    "3] Inadequate features.\n",
    "4] Over regularization.\n",
    "5] Incorrect hyperparameters."
   ]
  },
  {
   "cell_type": "markdown",
   "id": "c5d055d9",
   "metadata": {},
   "source": [
    "# Q4: Explain the bias-variance tradeoff in machine learning. What is the relationship between bias and variance, and how do they affect model performance?"
   ]
  },
  {
   "cell_type": "markdown",
   "id": "61f5050a",
   "metadata": {},
   "source": [
    "Bias: Bias: Bias refers to the error introduced by a model's assumptions and simplifications about the underlying data. High bias means model learned the trainig date properly and this may lead to overfitting case."
   ]
  },
  {
   "cell_type": "markdown",
   "id": "8220867b",
   "metadata": {},
   "source": [
    "Variance: Variance, on the other hand, refers to the model's sensitivity to small fluctuations or noise in the training data."
   ]
  },
  {
   "cell_type": "markdown",
   "id": "aff9730c",
   "metadata": {},
   "source": [
    "High Bias, Low Variance: A model with high bias and low variance typically oversimplifies the problem and fails to capture the underlying patterns. It consistently makes similar mistakes across different datasets."
   ]
  },
  {
   "cell_type": "markdown",
   "id": "eed6162c",
   "metadata": {},
   "source": [
    "Low Bias, High Variance: A model with low bias and high variance can capture complex patterns in the training data.(Overfitting)"
   ]
  },
  {
   "cell_type": "markdown",
   "id": "11106472",
   "metadata": {},
   "source": [
    "Balancing bias and variance ensures that a model is neither too simplistic to capture the underlying patterns nor too complex to be influenced by noise, leading to better overall performance."
   ]
  },
  {
   "cell_type": "markdown",
   "id": "84210570",
   "metadata": {},
   "source": [
    "# Q5: Discuss some common methods for detecting overfitting and underfitting in machine learning models. How can you determine whether your model is overfitting or underfitting?"
   ]
  },
  {
   "cell_type": "markdown",
   "id": "0341ca90",
   "metadata": {},
   "source": [
    "1] Inspection of learning curve: Learning curves show the training and validation performance as the amount of training data increases. "
   ]
  },
  {
   "cell_type": "markdown",
   "id": "b49c6c60",
   "metadata": {},
   "source": [
    "2] Cross-validation involves dividing the dataset into multiple subsets (folds) for training and validation. Repeatedly training and evaluating the model on different subsets helps you assess its performance on various data configurations. Overfitting might be indicated if the model performs much better on the training folds compared to the validation folds."
   ]
  },
  {
   "cell_type": "markdown",
   "id": "02d26003",
   "metadata": {},
   "source": [
    "3] Apply regularization techniques such as L1 or L2 regularization to the model. If the model's performance on the validation data improves, it might have been overfitting. Regularization penalizes complex models, potentially reducing overfitting"
   ]
  },
  {
   "cell_type": "markdown",
   "id": "f85e2cb8",
   "metadata": {},
   "source": [
    "# Q6: Compare and contrast bias and variance in machine learning. What are some examples of high bias and high variance models, and how do they differ in terms of their performance?"
   ]
  },
  {
   "cell_type": "markdown",
   "id": "9e3fa981",
   "metadata": {},
   "source": [
    "Bias: Represents the model's assumptions and errors due to oversimplification. It causes systematic errors and leads to underfitting.\n",
    "\n",
    "Variance: Represents the model's sensitivity to noise and errors due to over-complexity. It causes inconsistency and leads to overfitting.\n",
    "\n",
    "High Bias: Model is too simple, struggles to capture data complexities, underfits, and has poor performance.\n",
    "\n",
    "High Variance: Model is too complex, captures noise, overfits, and has good performance on training data but poor generalization."
   ]
  },
  {
   "cell_type": "markdown",
   "id": "e5360e21",
   "metadata": {},
   "source": [
    "High Bias Example (Underfitting):\n",
    "Imagine you're trying to predict a person's height based on their age using a linear regression model. However, the relationship between age and height is more complex, involving growth spurts and plateaus. If you fit a simple linear regression line to the data, the model's assumptions might be too rigid to capture the changing patterns. This is an example of a high bias model, resulting in systematic errors where the predicted heights consistently deviate from the actual heights"
   ]
  },
  {
   "cell_type": "markdown",
   "id": "32c21009",
   "metadata": {},
   "source": [
    "High Variance Example (Overfitting):\n",
    "Consider training a deep neural network with a large number of layers and parameters to classify images of animals. If this model has access to a vast amount of training data and the capacity to learn intricate details, it might fit the training data extremely well. However, when presented with new, unseen images, the model's predictions might be inconsistent and highly sensitive to small variations in input. This is an example of a high variance model, as it's capturing not just the true underlying features of the animals but also the noise present in the training data."
   ]
  },
  {
   "cell_type": "markdown",
   "id": "12bdf72e",
   "metadata": {},
   "source": [
    "# Q7: What is regularization in machine learning, and how can it be used to prevent overfitting? Describe some common regularization techniques and how they work"
   ]
  },
  {
   "cell_type": "markdown",
   "id": "b10315a0",
   "metadata": {},
   "source": [
    "Regularization techniques aim to balance model complexity and the quality of fit to avoid overfitting. Practitioners often tune regularization hyperparameters using techniques like cross-validation to find the best tradeoff between bias and variance for their specific problem."
   ]
  },
  {
   "cell_type": "markdown",
   "id": "62a51992",
   "metadata": {},
   "source": [
    "Techniques to use:"
   ]
  },
  {
   "cell_type": "markdown",
   "id": "ad42d08d",
   "metadata": {},
   "source": [
    "1] L1 Regularization.\n",
    "2] L2 Regularization.\n",
    "3] Data Augmentation."
   ]
  }
 ],
 "metadata": {
  "kernelspec": {
   "display_name": "Python 3 (ipykernel)",
   "language": "python",
   "name": "python3"
  },
  "language_info": {
   "codemirror_mode": {
    "name": "ipython",
    "version": 3
   },
   "file_extension": ".py",
   "mimetype": "text/x-python",
   "name": "python",
   "nbconvert_exporter": "python",
   "pygments_lexer": "ipython3",
   "version": "3.10.9"
  }
 },
 "nbformat": 4,
 "nbformat_minor": 5
}
